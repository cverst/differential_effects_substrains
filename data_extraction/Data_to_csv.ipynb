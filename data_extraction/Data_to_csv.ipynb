{
 "cells": [
  {
   "cell_type": "markdown",
   "metadata": {},
   "source": [
    "Import packages."
   ]
  },
  {
   "cell_type": "code",
   "execution_count": 1,
   "metadata": {},
   "outputs": [],
   "source": [
    "from abr_data import load_abr\n",
    "import os"
   ]
  },
  {
   "cell_type": "markdown",
   "metadata": {},
   "source": [
    "Define paths."
   ]
  },
  {
   "cell_type": "code",
   "execution_count": 2,
   "metadata": {},
   "outputs": [],
   "source": [
    "MASTER_LIST = \"/Users/corstiaen/OneDrive - Karolinska Institutet/CVanalysis/MasterExperimentList.csv\"\n",
    "DATA_DIR_CAJ = '/Users/corstiaen/OneDrive - Karolinska Institutet/CVanalysis/Jackson'\n",
    "DATA_DIR_JRJ = '/Users/corstiaen/OneDrive - Karolinska Institutet/CVanalysis/Janvier'\n",
    "DATA_DIR_SCA = '/Users/corstiaen/OneDrive - Karolinska Institutet/CVanalysis/Scanbur'"
   ]
  },
  {
   "cell_type": "markdown",
   "metadata": {},
   "source": [
    "# ABR"
   ]
  },
  {
   "cell_type": "markdown",
   "metadata": {},
   "source": [
    "## Load\n",
    "Load data from .csv files that were created by exporting \"cursors\" from Tucker-Davis Technologies .awf files."
   ]
  },
  {
   "cell_type": "code",
   "execution_count": 3,
   "metadata": {},
   "outputs": [
    {
     "name": "stdout",
     "output_type": "stream",
     "text": [
      "ABRthresholds.csv has no readable noise_type; skipping file.\n",
      "ABRthresholds.csv has no readable noise_type; skipping file.\n",
      "ABRthresholds.csv has no readable noise_type; skipping file.\n"
     ]
    }
   ],
   "source": [
    "df_caj = load_abr(DATA_DIR_CAJ, MASTER_LIST)\n",
    "df_jrj = load_abr(DATA_DIR_JRJ, MASTER_LIST)\n",
    "df_sca = load_abr(DATA_DIR_SCA, MASTER_LIST)"
   ]
  },
  {
   "cell_type": "markdown",
   "metadata": {},
   "source": [
    "## Clean\n",
    "Remove data from deviating experimental condition."
   ]
  },
  {
   "cell_type": "code",
   "execution_count": 4,
   "metadata": {},
   "outputs": [],
   "source": [
    "df_sca = df_sca.query(\"special == 'none'\")"
   ]
  },
  {
   "cell_type": "code",
   "execution_count": 5,
   "metadata": {},
   "outputs": [],
   "source": [
    "df_caj = df_caj.drop(\"special\", axis=1)\n",
    "df_jrj = df_jrj.drop(\"special\", axis=1)\n",
    "df_sca = df_sca.drop(\"special\", axis=1)"
   ]
  },
  {
   "cell_type": "markdown",
   "metadata": {},
   "source": [
    "## Look at raw data\n",
    "Number of ABR data points per substrain, before preprocessing."
   ]
  },
  {
   "cell_type": "code",
   "execution_count": 6,
   "metadata": {},
   "outputs": [
    {
     "name": "stdout",
     "output_type": "stream",
     "text": [
      "There are 11805 values for CaJ.\n",
      "There are 8489 values for JRj.\n",
      "There are 7985 values for Sca.\n"
     ]
    }
   ],
   "source": [
    "print(f\"There are {len(df_caj)} values for CaJ.\")\n",
    "print(f\"There are {len(df_jrj)} values for JRj.\")\n",
    "print(f\"There are {len(df_sca)} values for Sca.\")"
   ]
  },
  {
   "cell_type": "markdown",
   "metadata": {},
   "source": [
    "Example of how our data looks."
   ]
  },
  {
   "cell_type": "code",
   "execution_count": 7,
   "metadata": {},
   "outputs": [
    {
     "data": {
      "text/html": [
       "<div>\n",
       "<style scoped>\n",
       "    .dataframe tbody tr th:only-of-type {\n",
       "        vertical-align: middle;\n",
       "    }\n",
       "\n",
       "    .dataframe tbody tr th {\n",
       "        vertical-align: top;\n",
       "    }\n",
       "\n",
       "    .dataframe thead th {\n",
       "        text-align: right;\n",
       "    }\n",
       "</style>\n",
       "<table border=\"1\" class=\"dataframe\">\n",
       "  <thead>\n",
       "    <tr style=\"text-align: right;\">\n",
       "      <th></th>\n",
       "      <th>file_number</th>\n",
       "      <th>substrain</th>\n",
       "      <th>id</th>\n",
       "      <th>noise_spl</th>\n",
       "      <th>analyzer_id</th>\n",
       "      <th>experimenter_id</th>\n",
       "      <th>noise_type</th>\n",
       "      <th>abr_time</th>\n",
       "      <th>level_db</th>\n",
       "      <th>freq_hz</th>\n",
       "      <th>wave1_amp</th>\n",
       "      <th>threshold</th>\n",
       "    </tr>\n",
       "  </thead>\n",
       "  <tbody>\n",
       "    <tr>\n",
       "      <th>2080</th>\n",
       "      <td>141</td>\n",
       "      <td>CaJ</td>\n",
       "      <td>C200_2</td>\n",
       "      <td>100</td>\n",
       "      <td>CV</td>\n",
       "      <td>JF</td>\n",
       "      <td>baseline</td>\n",
       "      <td>baseline</td>\n",
       "      <td>35.0</td>\n",
       "      <td>12000</td>\n",
       "      <td>378.089000</td>\n",
       "      <td>5.0</td>\n",
       "    </tr>\n",
       "    <tr>\n",
       "      <th>203</th>\n",
       "      <td>10</td>\n",
       "      <td>CaJ</td>\n",
       "      <td>C203_5</td>\n",
       "      <td>100</td>\n",
       "      <td>JF</td>\n",
       "      <td>JF</td>\n",
       "      <td>baseline</td>\n",
       "      <td>baseline</td>\n",
       "      <td>85.0</td>\n",
       "      <td>8000</td>\n",
       "      <td>1570.629000</td>\n",
       "      <td>5.0</td>\n",
       "    </tr>\n",
       "    <tr>\n",
       "      <th>943</th>\n",
       "      <td>61</td>\n",
       "      <td>CaJ</td>\n",
       "      <td>C200_2</td>\n",
       "      <td>100</td>\n",
       "      <td>JF</td>\n",
       "      <td>JF</td>\n",
       "      <td>ZT3</td>\n",
       "      <td>24h</td>\n",
       "      <td>70.0</td>\n",
       "      <td>24000</td>\n",
       "      <td>714.543000</td>\n",
       "      <td>35.0</td>\n",
       "    </tr>\n",
       "    <tr>\n",
       "      <th>11223</th>\n",
       "      <td>955</td>\n",
       "      <td>CaJ</td>\n",
       "      <td>C351_5</td>\n",
       "      <td>103</td>\n",
       "      <td>JF</td>\n",
       "      <td>ET</td>\n",
       "      <td>ZT3</td>\n",
       "      <td>2w</td>\n",
       "      <td>20.0</td>\n",
       "      <td>16000</td>\n",
       "      <td>26.234333</td>\n",
       "      <td>25.0</td>\n",
       "    </tr>\n",
       "  </tbody>\n",
       "</table>\n",
       "</div>"
      ],
      "text/plain": [
       "       file_number substrain      id  noise_spl analyzer_id experimenter_id  \\\n",
       "2080           141       CaJ  C200_2        100          CV              JF   \n",
       "203             10       CaJ  C203_5        100          JF              JF   \n",
       "943             61       CaJ  C200_2        100          JF              JF   \n",
       "11223          955       CaJ  C351_5        103          JF              ET   \n",
       "\n",
       "      noise_type  abr_time  level_db  freq_hz    wave1_amp  threshold  \n",
       "2080    baseline  baseline      35.0    12000   378.089000        5.0  \n",
       "203     baseline  baseline      85.0     8000  1570.629000        5.0  \n",
       "943          ZT3       24h      70.0    24000   714.543000       35.0  \n",
       "11223        ZT3        2w      20.0    16000    26.234333       25.0  "
      ]
     },
     "execution_count": 7,
     "metadata": {},
     "output_type": "execute_result"
    }
   ],
   "source": [
    "df_caj.sample(4)"
   ]
  },
  {
   "cell_type": "markdown",
   "metadata": {},
   "source": [
    "## Save\n",
    "Write data to csv."
   ]
  },
  {
   "cell_type": "code",
   "execution_count": 8,
   "metadata": {},
   "outputs": [],
   "source": [
    "parent_dir = os.path.abspath(os.path.join(os.getcwd(), os.pardir))\n",
    "raw_data_dir = os.path.join(parent_dir, \"data\", \"raw\")\n",
    "if not os.path.exists(raw_data_dir):\n",
    "    os.mkdir(raw_data_dir)"
   ]
  },
  {
   "cell_type": "code",
   "execution_count": 9,
   "metadata": {},
   "outputs": [],
   "source": [
    "df_caj.to_csv(os.path.join(raw_data_dir, \"ABR_CaJ_raw.csv\"), index=False)\n",
    "df_jrj.to_csv(os.path.join(raw_data_dir, \"ABR_JRj_raw.csv\"), index=False)\n",
    "df_sca.to_csv(os.path.join(raw_data_dir, \"ABR_Sca_raw.csv\"), index=False)"
   ]
  },
  {
   "cell_type": "code",
   "execution_count": null,
   "metadata": {},
   "outputs": [],
   "source": []
  }
 ],
 "metadata": {
  "interpreter": {
   "hash": "bbe62adba9991a6c82785014c7de4ed97227a152db5cb3d78fb9d160618a0342"
  },
  "kernelspec": {
   "display_name": "Python 3.7.11 64-bit ('substrains': conda)",
   "language": "python",
   "name": "python3"
  },
  "language_info": {
   "codemirror_mode": {
    "name": "ipython",
    "version": 3
   },
   "file_extension": ".py",
   "mimetype": "text/x-python",
   "name": "python",
   "nbconvert_exporter": "python",
   "pygments_lexer": "ipython3",
   "version": "3.7.7"
  },
  "orig_nbformat": 4
 },
 "nbformat": 4,
 "nbformat_minor": 2
}
