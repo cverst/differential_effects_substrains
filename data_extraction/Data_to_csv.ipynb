{
 "cells": [
  {
   "cell_type": "markdown",
   "metadata": {},
   "source": [
    "Import packages."
   ]
  },
  {
   "cell_type": "code",
   "execution_count": 1,
   "metadata": {},
   "outputs": [],
   "source": [
    "from extracting import load_abr, load_dp\n",
    "import os"
   ]
  },
  {
   "cell_type": "markdown",
   "metadata": {},
   "source": [
    "Define paths."
   ]
  },
  {
   "cell_type": "code",
   "execution_count": 2,
   "metadata": {},
   "outputs": [],
   "source": [
    "MASTER_LIST = \"/Users/corstiaen/OneDrive - Karolinska Institutet/CVanalysis/MasterExperimentList.csv\"\n",
    "DATA_DIR_CAJ = '/Users/corstiaen/OneDrive - Karolinska Institutet/CVanalysis/Jackson'\n",
    "DATA_DIR_JRJ = '/Users/corstiaen/OneDrive - Karolinska Institutet/CVanalysis/Janvier'\n",
    "DATA_DIR_SCA = '/Users/corstiaen/OneDrive - Karolinska Institutet/CVanalysis/Scanbur'"
   ]
  },
  {
   "cell_type": "markdown",
   "metadata": {},
   "source": [
    "# ABR"
   ]
  },
  {
   "cell_type": "markdown",
   "metadata": {},
   "source": [
    "## Load\n",
    "Load data from .csv files that were created by exporting \"cursors\" from Tucker-Davis Technologies .awf files."
   ]
  },
  {
   "cell_type": "code",
   "execution_count": 3,
   "metadata": {},
   "outputs": [
    {
     "name": "stdout",
     "output_type": "stream",
     "text": [
      "ABRthresholds.csv has no readable noise_type; skipping file.\n",
      "ABRthresholds.csv has no readable noise_type; skipping file.\n",
      "ABRthresholds.csv has no readable noise_type; skipping file.\n"
     ]
    }
   ],
   "source": [
    "df_caj_abr = load_abr(DATA_DIR_CAJ, MASTER_LIST)\n",
    "df_jrj_abr = load_abr(DATA_DIR_JRJ, MASTER_LIST)\n",
    "df_sca_abr = load_abr(DATA_DIR_SCA, MASTER_LIST)"
   ]
  },
  {
   "cell_type": "markdown",
   "metadata": {},
   "source": [
    "## Clean\n",
    "Remove data from deviating experimental condition."
   ]
  },
  {
   "cell_type": "code",
   "execution_count": 4,
   "metadata": {},
   "outputs": [],
   "source": [
    "df_sca_abr = df_sca_abr.query(\"special == 'none'\")"
   ]
  },
  {
   "cell_type": "code",
   "execution_count": 5,
   "metadata": {},
   "outputs": [],
   "source": [
    "df_caj_abr = df_caj_abr.drop(\"special\", axis=1)\n",
    "df_jrj_abr = df_jrj_abr.drop(\"special\", axis=1)\n",
    "df_sca_abr = df_sca_abr.drop(\"special\", axis=1)"
   ]
  },
  {
   "cell_type": "markdown",
   "metadata": {},
   "source": [
    "## Look at raw data\n",
    "Number of ABR data points per substrain, before preprocessing."
   ]
  },
  {
   "cell_type": "code",
   "execution_count": 6,
   "metadata": {},
   "outputs": [
    {
     "name": "stdout",
     "output_type": "stream",
     "text": [
      "There are 11805 values for CaJ.\n",
      "There are 8489 values for JRj.\n",
      "There are 7985 values for Sca.\n"
     ]
    }
   ],
   "source": [
    "print(f\"There are {len(df_caj_abr)} values for CaJ.\")\n",
    "print(f\"There are {len(df_jrj_abr)} values for JRj.\")\n",
    "print(f\"There are {len(df_sca_abr)} values for Sca.\")"
   ]
  },
  {
   "cell_type": "markdown",
   "metadata": {},
   "source": [
    "Example of how our data looks."
   ]
  },
  {
   "cell_type": "code",
   "execution_count": 7,
   "metadata": {},
   "outputs": [
    {
     "data": {
      "text/html": [
       "<div>\n",
       "<style scoped>\n",
       "    .dataframe tbody tr th:only-of-type {\n",
       "        vertical-align: middle;\n",
       "    }\n",
       "\n",
       "    .dataframe tbody tr th {\n",
       "        vertical-align: top;\n",
       "    }\n",
       "\n",
       "    .dataframe thead th {\n",
       "        text-align: right;\n",
       "    }\n",
       "</style>\n",
       "<table border=\"1\" class=\"dataframe\">\n",
       "  <thead>\n",
       "    <tr style=\"text-align: right;\">\n",
       "      <th></th>\n",
       "      <th>file_number</th>\n",
       "      <th>substrain</th>\n",
       "      <th>id</th>\n",
       "      <th>noise_spl</th>\n",
       "      <th>analyzer_id</th>\n",
       "      <th>experimenter_id</th>\n",
       "      <th>noise_type</th>\n",
       "      <th>abr_time</th>\n",
       "      <th>level_db</th>\n",
       "      <th>freq_hz</th>\n",
       "      <th>wave1_amp</th>\n",
       "      <th>threshold</th>\n",
       "    </tr>\n",
       "  </thead>\n",
       "  <tbody>\n",
       "    <tr>\n",
       "      <th>1590</th>\n",
       "      <td>110</td>\n",
       "      <td>CaJ</td>\n",
       "      <td>C202_4</td>\n",
       "      <td>100</td>\n",
       "      <td>JF</td>\n",
       "      <td>JF</td>\n",
       "      <td>ZT3</td>\n",
       "      <td>2w</td>\n",
       "      <td>65.0</td>\n",
       "      <td>16000</td>\n",
       "      <td>520.503</td>\n",
       "      <td>50.0</td>\n",
       "    </tr>\n",
       "    <tr>\n",
       "      <th>7064</th>\n",
       "      <td>578</td>\n",
       "      <td>CaJ</td>\n",
       "      <td>C52_4</td>\n",
       "      <td>105</td>\n",
       "      <td>CV</td>\n",
       "      <td>RP</td>\n",
       "      <td>baseline</td>\n",
       "      <td>baseline</td>\n",
       "      <td>55.0</td>\n",
       "      <td>16000</td>\n",
       "      <td>704.339</td>\n",
       "      <td>5.0</td>\n",
       "    </tr>\n",
       "    <tr>\n",
       "      <th>5012</th>\n",
       "      <td>382</td>\n",
       "      <td>CaJ</td>\n",
       "      <td>C286_2</td>\n",
       "      <td>105</td>\n",
       "      <td>JF</td>\n",
       "      <td>JF</td>\n",
       "      <td>baseline</td>\n",
       "      <td>baseline</td>\n",
       "      <td>25.0</td>\n",
       "      <td>16000</td>\n",
       "      <td>283.757</td>\n",
       "      <td>10.0</td>\n",
       "    </tr>\n",
       "    <tr>\n",
       "      <th>10668</th>\n",
       "      <td>905</td>\n",
       "      <td>CaJ</td>\n",
       "      <td>C100_2</td>\n",
       "      <td>103</td>\n",
       "      <td>JF</td>\n",
       "      <td>JF</td>\n",
       "      <td>ZT15</td>\n",
       "      <td>2w</td>\n",
       "      <td>80.0</td>\n",
       "      <td>12000</td>\n",
       "      <td>971.107</td>\n",
       "      <td>50.0</td>\n",
       "    </tr>\n",
       "  </tbody>\n",
       "</table>\n",
       "</div>"
      ],
      "text/plain": [
       "       file_number substrain      id  noise_spl analyzer_id experimenter_id  \\\n",
       "1590           110       CaJ  C202_4        100          JF              JF   \n",
       "7064           578       CaJ   C52_4        105          CV              RP   \n",
       "5012           382       CaJ  C286_2        105          JF              JF   \n",
       "10668          905       CaJ  C100_2        103          JF              JF   \n",
       "\n",
       "      noise_type  abr_time  level_db  freq_hz  wave1_amp  threshold  \n",
       "1590         ZT3        2w      65.0    16000    520.503       50.0  \n",
       "7064    baseline  baseline      55.0    16000    704.339        5.0  \n",
       "5012    baseline  baseline      25.0    16000    283.757       10.0  \n",
       "10668       ZT15        2w      80.0    12000    971.107       50.0  "
      ]
     },
     "execution_count": 7,
     "metadata": {},
     "output_type": "execute_result"
    }
   ],
   "source": [
    "df_caj_abr.sample(4)"
   ]
  },
  {
   "cell_type": "markdown",
   "metadata": {},
   "source": [
    "## Save\n",
    "Write data to csv."
   ]
  },
  {
   "cell_type": "code",
   "execution_count": 8,
   "metadata": {},
   "outputs": [],
   "source": [
    "parent_dir = os.path.abspath(os.path.join(os.getcwd(), os.pardir))\n",
    "raw_data_dir = os.path.join(parent_dir, \"data\", \"raw\")\n",
    "if not os.path.exists(raw_data_dir):\n",
    "    os.mkdir(raw_data_dir)"
   ]
  },
  {
   "cell_type": "code",
   "execution_count": 9,
   "metadata": {},
   "outputs": [],
   "source": [
    "df_caj_abr.to_csv(os.path.join(raw_data_dir, \"ABR_CaJ_raw.csv\"), index=False)\n",
    "df_jrj_abr.to_csv(os.path.join(raw_data_dir, \"ABR_JRj_raw.csv\"), index=False)\n",
    "df_sca_abr.to_csv(os.path.join(raw_data_dir, \"ABR_Sca_raw.csv\"), index=False)"
   ]
  },
  {
   "cell_type": "markdown",
   "metadata": {},
   "source": [
    "# DP"
   ]
  },
  {
   "cell_type": "markdown",
   "metadata": {},
   "source": [
    "## Load\n",
    "Load data from Tucker-Davis Technologies .awf files directly."
   ]
  },
  {
   "cell_type": "code",
   "execution_count": 10,
   "metadata": {},
   "outputs": [],
   "source": [
    "df_caj_dp = load_dp(DATA_DIR_CAJ, MASTER_LIST)\n",
    "df_jrj_dp = load_dp(DATA_DIR_JRJ, MASTER_LIST)\n",
    "df_sca_dp = load_dp(DATA_DIR_SCA, MASTER_LIST)"
   ]
  },
  {
   "cell_type": "markdown",
   "metadata": {},
   "source": [
    "## Clean\n",
    "Remove data from deviating experimental condition."
   ]
  },
  {
   "cell_type": "code",
   "execution_count": 11,
   "metadata": {},
   "outputs": [],
   "source": [
    "df_sca_dp = df_sca_dp.query(\"special == 'none'\")"
   ]
  },
  {
   "cell_type": "code",
   "execution_count": 12,
   "metadata": {},
   "outputs": [],
   "source": [
    "df_caj_dp = df_caj_dp.drop(\"special\", axis=1)\n",
    "df_jrj_dp = df_jrj_dp.drop(\"special\", axis=1)\n",
    "df_sca_dp = df_sca_dp.drop(\"special\", axis=1)"
   ]
  },
  {
   "cell_type": "markdown",
   "metadata": {},
   "source": [
    "## Look at raw data\n",
    "Number of DP data points per substrain, before preprocessing."
   ]
  },
  {
   "cell_type": "code",
   "execution_count": 13,
   "metadata": {},
   "outputs": [
    {
     "name": "stdout",
     "output_type": "stream",
     "text": [
      "There are 12338 values for CaJ.\n",
      "There are 11305 values for JRj.\n",
      "There are 10257 values for Sca.\n"
     ]
    }
   ],
   "source": [
    "print(f\"There are {len(df_caj_dp)} values for CaJ.\")\n",
    "print(f\"There are {len(df_jrj_dp)} values for JRj.\")\n",
    "print(f\"There are {len(df_sca_dp)} values for Sca.\")"
   ]
  },
  {
   "cell_type": "markdown",
   "metadata": {},
   "source": [
    "Example of how our data looks."
   ]
  },
  {
   "cell_type": "code",
   "execution_count": 14,
   "metadata": {},
   "outputs": [
    {
     "data": {
      "text/html": [
       "<div>\n",
       "<style scoped>\n",
       "    .dataframe tbody tr th:only-of-type {\n",
       "        vertical-align: middle;\n",
       "    }\n",
       "\n",
       "    .dataframe tbody tr th {\n",
       "        vertical-align: top;\n",
       "    }\n",
       "\n",
       "    .dataframe thead th {\n",
       "        text-align: right;\n",
       "    }\n",
       "</style>\n",
       "<table border=\"1\" class=\"dataframe\">\n",
       "  <thead>\n",
       "    <tr style=\"text-align: right;\">\n",
       "      <th></th>\n",
       "      <th>file_number</th>\n",
       "      <th>substrain</th>\n",
       "      <th>noise_spl</th>\n",
       "      <th>noise_type</th>\n",
       "      <th>abr_time</th>\n",
       "      <th>id</th>\n",
       "      <th>experimenter_id</th>\n",
       "      <th>freq_hz</th>\n",
       "      <th>level_db</th>\n",
       "      <th>f1</th>\n",
       "      <th>f2</th>\n",
       "      <th>level_f1</th>\n",
       "      <th>level_f2</th>\n",
       "      <th>level_distprod</th>\n",
       "    </tr>\n",
       "  </thead>\n",
       "  <tbody>\n",
       "    <tr>\n",
       "      <th>1711</th>\n",
       "      <td>28</td>\n",
       "      <td>CaJ</td>\n",
       "      <td>100</td>\n",
       "      <td>baseline</td>\n",
       "      <td>baseline</td>\n",
       "      <td>C36_3</td>\n",
       "      <td>RP</td>\n",
       "      <td>32000.0</td>\n",
       "      <td>55.0</td>\n",
       "      <td>26656.0</td>\n",
       "      <td>32000.0</td>\n",
       "      <td>35.408375</td>\n",
       "      <td>23.564014</td>\n",
       "      <td>5.752388</td>\n",
       "    </tr>\n",
       "    <tr>\n",
       "      <th>10591</th>\n",
       "      <td>487</td>\n",
       "      <td>CaJ</td>\n",
       "      <td>103</td>\n",
       "      <td>ZT3</td>\n",
       "      <td>24h</td>\n",
       "      <td>C112_0</td>\n",
       "      <td>JF</td>\n",
       "      <td>24000.0</td>\n",
       "      <td>35.0</td>\n",
       "      <td>19992.0</td>\n",
       "      <td>24000.0</td>\n",
       "      <td>33.169533</td>\n",
       "      <td>19.119251</td>\n",
       "      <td>-21.146210</td>\n",
       "    </tr>\n",
       "    <tr>\n",
       "      <th>7653</th>\n",
       "      <td>305</td>\n",
       "      <td>CaJ</td>\n",
       "      <td>105</td>\n",
       "      <td>ZT15</td>\n",
       "      <td>2w</td>\n",
       "      <td>C60_3</td>\n",
       "      <td>RP</td>\n",
       "      <td>12000.0</td>\n",
       "      <td>55.0</td>\n",
       "      <td>9996.0</td>\n",
       "      <td>12000.0</td>\n",
       "      <td>60.383541</td>\n",
       "      <td>48.687029</td>\n",
       "      <td>-16.695984</td>\n",
       "    </tr>\n",
       "    <tr>\n",
       "      <th>5673</th>\n",
       "      <td>784</td>\n",
       "      <td>CaJ</td>\n",
       "      <td>105</td>\n",
       "      <td>ZT15</td>\n",
       "      <td>2w</td>\n",
       "      <td>C287_3</td>\n",
       "      <td>JF</td>\n",
       "      <td>12000.0</td>\n",
       "      <td>75.0</td>\n",
       "      <td>9996.0</td>\n",
       "      <td>12000.0</td>\n",
       "      <td>76.052581</td>\n",
       "      <td>67.246708</td>\n",
       "      <td>-13.301506</td>\n",
       "    </tr>\n",
       "  </tbody>\n",
       "</table>\n",
       "</div>"
      ],
      "text/plain": [
       "       file_number substrain noise_spl noise_type  abr_time      id  \\\n",
       "1711            28       CaJ       100   baseline  baseline   C36_3   \n",
       "10591          487       CaJ       103        ZT3       24h  C112_0   \n",
       "7653           305       CaJ       105       ZT15        2w   C60_3   \n",
       "5673           784       CaJ       105       ZT15        2w  C287_3   \n",
       "\n",
       "      experimenter_id  freq_hz  level_db       f1       f2   level_f1  \\\n",
       "1711               RP  32000.0      55.0  26656.0  32000.0  35.408375   \n",
       "10591              JF  24000.0      35.0  19992.0  24000.0  33.169533   \n",
       "7653               RP  12000.0      55.0   9996.0  12000.0  60.383541   \n",
       "5673               JF  12000.0      75.0   9996.0  12000.0  76.052581   \n",
       "\n",
       "        level_f2  level_distprod  \n",
       "1711   23.564014        5.752388  \n",
       "10591  19.119251      -21.146210  \n",
       "7653   48.687029      -16.695984  \n",
       "5673   67.246708      -13.301506  "
      ]
     },
     "execution_count": 14,
     "metadata": {},
     "output_type": "execute_result"
    }
   ],
   "source": [
    "df_caj_dp.sample(4)"
   ]
  },
  {
   "cell_type": "markdown",
   "metadata": {},
   "source": [
    "## Save\n",
    "Write data to csv. (The raw data directory has already been created.)"
   ]
  },
  {
   "cell_type": "code",
   "execution_count": 15,
   "metadata": {},
   "outputs": [],
   "source": [
    "df_caj_dp.to_csv(os.path.join(raw_data_dir, \"DP_CaJ_raw.csv\"), index=False)\n",
    "df_jrj_dp.to_csv(os.path.join(raw_data_dir, \"DP_JRj_raw.csv\"), index=False)\n",
    "df_sca_dp.to_csv(os.path.join(raw_data_dir, \"DP_Sca_raw.csv\"), index=False)"
   ]
  },
  {
   "cell_type": "code",
   "execution_count": null,
   "metadata": {},
   "outputs": [],
   "source": []
  }
 ],
 "metadata": {
  "interpreter": {
   "hash": "bbe62adba9991a6c82785014c7de4ed97227a152db5cb3d78fb9d160618a0342"
  },
  "kernelspec": {
   "display_name": "Python 3.7.11 64-bit ('substrains': conda)",
   "language": "python",
   "name": "python3"
  },
  "language_info": {
   "codemirror_mode": {
    "name": "ipython",
    "version": 3
   },
   "file_extension": ".py",
   "mimetype": "text/x-python",
   "name": "python",
   "nbconvert_exporter": "python",
   "pygments_lexer": "ipython3",
   "version": "3.7.7"
  },
  "orig_nbformat": 4
 },
 "nbformat": 4,
 "nbformat_minor": 2
}
